{
 "cells": [
  {
   "cell_type": "code",
   "execution_count": 1,
   "metadata": {},
   "outputs": [],
   "source": [
    "import os\n",
    "import numpy as np \n",
    "import pandas as pd\n",
    "import matplotlib.pyplot as plt"
   ]
  },
  {
   "cell_type": "code",
   "execution_count": 2,
   "metadata": {},
   "outputs": [],
   "source": [
    "# Some configs\n",
    "\n",
    "DATASET_ROOT = '/home/xy/research/dataset/OpportunityUCIDataset/dataset/RLA_dataset'\n",
    "\n",
    "# pd.options.display.max_columns = None\n"
   ]
  },
  {
   "cell_type": "code",
   "execution_count": 3,
   "metadata": {},
   "outputs": [],
   "source": [
    "txt_list = os.listdir(DATASET_ROOT)\n",
    "train_txt = os.path.join(DATASET_ROOT,txt_list[0])\n",
    "val_txt = os.path.join(DATASET_ROOT,txt_list[1])\n"
   ]
  },
  {
   "cell_type": "code",
   "execution_count": 4,
   "metadata": {},
   "outputs": [],
   "source": [
    "train_data = np.loadtxt(train_txt)\n",
    "df_train = pd.DataFrame(train_data)"
   ]
  },
  {
   "cell_type": "code",
   "execution_count": 5,
   "metadata": {},
   "outputs": [
    {
     "output_type": "execute_result",
     "data": {
      "text/plain": "            0      1      2       3      4      5      6      7      8      9  \\\n0      -870.0  532.0  137.0   305.0   90.0  471.0  262.0  -26.0 -682.0  219.0   \n1      -881.0  619.0  268.0  -841.0  180.0  539.0  264.0  -25.0 -678.0  238.0   \n2      -871.0  373.0  230.0 -1483.0  247.0  394.0  267.0   -2.0 -674.0  257.0   \n3      -906.0  313.0  233.0 -1210.0  291.0  251.0  274.0   23.0 -667.0  271.0   \n4      -917.0  302.0  240.0 -1020.0  287.0  202.0  279.0   42.0 -659.0  281.0   \n...       ...    ...    ...     ...    ...    ...    ...    ...    ...    ...   \n557958 -938.0  309.0  125.0   -41.0  -70.0  158.0  344.0 -182.0 -860.0  122.0   \n557959 -938.0  309.0  125.0   -41.0  -70.0  158.0  344.0 -182.0 -860.0  122.0   \n557960 -938.0  309.0  125.0   -41.0  -70.0  158.0  344.0 -182.0 -860.0  122.0   \n557961 -938.0  309.0  125.0   -41.0  -70.0  158.0  344.0 -182.0 -860.0  122.0   \n557962 -938.0  309.0  125.0   -41.0  -70.0  158.0  344.0 -182.0 -860.0  122.0   \n\n           10     11     12   13  \n0       607.0  -84.0 -760.0  0.0  \n1       605.0  -79.0 -756.0  0.0  \n2       601.0  -63.0 -754.0  0.0  \n3       600.0  -49.0 -751.0  0.0  \n4       599.0  -36.0 -749.0  0.0  \n...       ...    ...    ...  ...  \n557958  641.0 -127.0 -747.0  0.0  \n557959  641.0 -127.0 -747.0  0.0  \n557960  641.0 -127.0 -747.0  0.0  \n557961  641.0 -127.0 -747.0  0.0  \n557962  641.0 -127.0 -747.0  0.0  \n\n[557963 rows x 14 columns]",
      "text/html": "<div>\n<style scoped>\n    .dataframe tbody tr th:only-of-type {\n        vertical-align: middle;\n    }\n\n    .dataframe tbody tr th {\n        vertical-align: top;\n    }\n\n    .dataframe thead th {\n        text-align: right;\n    }\n</style>\n<table border=\"1\" class=\"dataframe\">\n  <thead>\n    <tr style=\"text-align: right;\">\n      <th></th>\n      <th>0</th>\n      <th>1</th>\n      <th>2</th>\n      <th>3</th>\n      <th>4</th>\n      <th>5</th>\n      <th>6</th>\n      <th>7</th>\n      <th>8</th>\n      <th>9</th>\n      <th>10</th>\n      <th>11</th>\n      <th>12</th>\n      <th>13</th>\n    </tr>\n  </thead>\n  <tbody>\n    <tr>\n      <th>0</th>\n      <td>-870.0</td>\n      <td>532.0</td>\n      <td>137.0</td>\n      <td>305.0</td>\n      <td>90.0</td>\n      <td>471.0</td>\n      <td>262.0</td>\n      <td>-26.0</td>\n      <td>-682.0</td>\n      <td>219.0</td>\n      <td>607.0</td>\n      <td>-84.0</td>\n      <td>-760.0</td>\n      <td>0.0</td>\n    </tr>\n    <tr>\n      <th>1</th>\n      <td>-881.0</td>\n      <td>619.0</td>\n      <td>268.0</td>\n      <td>-841.0</td>\n      <td>180.0</td>\n      <td>539.0</td>\n      <td>264.0</td>\n      <td>-25.0</td>\n      <td>-678.0</td>\n      <td>238.0</td>\n      <td>605.0</td>\n      <td>-79.0</td>\n      <td>-756.0</td>\n      <td>0.0</td>\n    </tr>\n    <tr>\n      <th>2</th>\n      <td>-871.0</td>\n      <td>373.0</td>\n      <td>230.0</td>\n      <td>-1483.0</td>\n      <td>247.0</td>\n      <td>394.0</td>\n      <td>267.0</td>\n      <td>-2.0</td>\n      <td>-674.0</td>\n      <td>257.0</td>\n      <td>601.0</td>\n      <td>-63.0</td>\n      <td>-754.0</td>\n      <td>0.0</td>\n    </tr>\n    <tr>\n      <th>3</th>\n      <td>-906.0</td>\n      <td>313.0</td>\n      <td>233.0</td>\n      <td>-1210.0</td>\n      <td>291.0</td>\n      <td>251.0</td>\n      <td>274.0</td>\n      <td>23.0</td>\n      <td>-667.0</td>\n      <td>271.0</td>\n      <td>600.0</td>\n      <td>-49.0</td>\n      <td>-751.0</td>\n      <td>0.0</td>\n    </tr>\n    <tr>\n      <th>4</th>\n      <td>-917.0</td>\n      <td>302.0</td>\n      <td>240.0</td>\n      <td>-1020.0</td>\n      <td>287.0</td>\n      <td>202.0</td>\n      <td>279.0</td>\n      <td>42.0</td>\n      <td>-659.0</td>\n      <td>281.0</td>\n      <td>599.0</td>\n      <td>-36.0</td>\n      <td>-749.0</td>\n      <td>0.0</td>\n    </tr>\n    <tr>\n      <th>...</th>\n      <td>...</td>\n      <td>...</td>\n      <td>...</td>\n      <td>...</td>\n      <td>...</td>\n      <td>...</td>\n      <td>...</td>\n      <td>...</td>\n      <td>...</td>\n      <td>...</td>\n      <td>...</td>\n      <td>...</td>\n      <td>...</td>\n      <td>...</td>\n    </tr>\n    <tr>\n      <th>557958</th>\n      <td>-938.0</td>\n      <td>309.0</td>\n      <td>125.0</td>\n      <td>-41.0</td>\n      <td>-70.0</td>\n      <td>158.0</td>\n      <td>344.0</td>\n      <td>-182.0</td>\n      <td>-860.0</td>\n      <td>122.0</td>\n      <td>641.0</td>\n      <td>-127.0</td>\n      <td>-747.0</td>\n      <td>0.0</td>\n    </tr>\n    <tr>\n      <th>557959</th>\n      <td>-938.0</td>\n      <td>309.0</td>\n      <td>125.0</td>\n      <td>-41.0</td>\n      <td>-70.0</td>\n      <td>158.0</td>\n      <td>344.0</td>\n      <td>-182.0</td>\n      <td>-860.0</td>\n      <td>122.0</td>\n      <td>641.0</td>\n      <td>-127.0</td>\n      <td>-747.0</td>\n      <td>0.0</td>\n    </tr>\n    <tr>\n      <th>557960</th>\n      <td>-938.0</td>\n      <td>309.0</td>\n      <td>125.0</td>\n      <td>-41.0</td>\n      <td>-70.0</td>\n      <td>158.0</td>\n      <td>344.0</td>\n      <td>-182.0</td>\n      <td>-860.0</td>\n      <td>122.0</td>\n      <td>641.0</td>\n      <td>-127.0</td>\n      <td>-747.0</td>\n      <td>0.0</td>\n    </tr>\n    <tr>\n      <th>557961</th>\n      <td>-938.0</td>\n      <td>309.0</td>\n      <td>125.0</td>\n      <td>-41.0</td>\n      <td>-70.0</td>\n      <td>158.0</td>\n      <td>344.0</td>\n      <td>-182.0</td>\n      <td>-860.0</td>\n      <td>122.0</td>\n      <td>641.0</td>\n      <td>-127.0</td>\n      <td>-747.0</td>\n      <td>0.0</td>\n    </tr>\n    <tr>\n      <th>557962</th>\n      <td>-938.0</td>\n      <td>309.0</td>\n      <td>125.0</td>\n      <td>-41.0</td>\n      <td>-70.0</td>\n      <td>158.0</td>\n      <td>344.0</td>\n      <td>-182.0</td>\n      <td>-860.0</td>\n      <td>122.0</td>\n      <td>641.0</td>\n      <td>-127.0</td>\n      <td>-747.0</td>\n      <td>0.0</td>\n    </tr>\n  </tbody>\n</table>\n<p>557963 rows × 14 columns</p>\n</div>"
     },
     "metadata": {},
     "execution_count": 5
    }
   ],
   "source": [
    "df_train"
   ]
  },
  {
   "cell_type": "code",
   "execution_count": 6,
   "metadata": {},
   "outputs": [
    {
     "output_type": "execute_result",
     "data": {
      "text/plain": "    0       1       2       3       4       5       6       7       8       \\\n0   -870.0  -881.0  -871.0  -906.0  -917.0  -925.0  -921.0  -957.0  -914.0   \n1    532.0   619.0   373.0   313.0   302.0   228.0   271.0   356.0   401.0   \n2    137.0   268.0   230.0   233.0   240.0   304.0   285.0   264.0   259.0   \n3    305.0  -841.0 -1483.0 -1210.0 -1020.0  -588.0   -51.0   139.0   166.0   \n4     90.0   180.0   247.0   291.0   287.0   168.0   -28.0   -57.0   -83.0   \n5    471.0   539.0   394.0   251.0   202.0   114.0   -24.0  -135.0  -155.0   \n6    262.0   264.0   267.0   274.0   279.0   285.0   285.0   281.0   282.0   \n7    -26.0   -25.0    -2.0    23.0    42.0    58.0    61.0    59.0    51.0   \n8   -682.0  -678.0  -674.0  -667.0  -659.0  -653.0  -654.0  -658.0  -664.0   \n9    219.0   238.0   257.0   271.0   281.0   285.0   283.0   278.0   273.0   \n10   607.0   605.0   601.0   600.0   599.0   598.0   597.0   597.0   598.0   \n11   -84.0   -79.0   -63.0   -49.0   -36.0   -28.0   -27.0   -27.0   -29.0   \n12  -760.0  -756.0  -754.0  -751.0  -749.0  -749.0  -750.0  -752.0  -753.0   \n13     0.0     0.0     0.0     0.0     0.0     0.0     0.0     0.0     0.0   \n\n    9       ...  557953  557954  557955  557956  557957  557958  557959  \\\n0   -898.0  ...  -938.0  -938.0  -938.0  -938.0  -938.0  -938.0  -938.0   \n1    419.0  ...   309.0   309.0   309.0   309.0   309.0   309.0   309.0   \n2    266.0  ...   125.0   125.0   125.0   125.0   125.0   125.0   125.0   \n3     63.0  ...   -41.0   -41.0   -41.0   -41.0   -41.0   -41.0   -41.0   \n4      8.0  ...   -70.0   -70.0   -70.0   -70.0   -70.0   -70.0   -70.0   \n5   -127.0  ...   158.0   158.0   158.0   158.0   158.0   158.0   158.0   \n6    280.0  ...   344.0   344.0   344.0   344.0   344.0   344.0   344.0   \n7     48.0  ...  -182.0  -182.0  -182.0  -182.0  -182.0  -182.0  -182.0   \n8   -670.0  ...  -860.0  -860.0  -860.0  -860.0  -860.0  -860.0  -860.0   \n9    271.0  ...   122.0   122.0   122.0   122.0   122.0   122.0   122.0   \n10   598.0  ...   641.0   641.0   641.0   641.0   641.0   641.0   641.0   \n11   -29.0  ...  -127.0  -127.0  -127.0  -127.0  -127.0  -127.0  -127.0   \n12  -754.0  ...  -747.0  -747.0  -747.0  -747.0  -747.0  -747.0  -747.0   \n13     0.0  ...     0.0     0.0     0.0     0.0     0.0     0.0     0.0   \n\n    557960  557961  557962  \n0   -938.0  -938.0  -938.0  \n1    309.0   309.0   309.0  \n2    125.0   125.0   125.0  \n3    -41.0   -41.0   -41.0  \n4    -70.0   -70.0   -70.0  \n5    158.0   158.0   158.0  \n6    344.0   344.0   344.0  \n7   -182.0  -182.0  -182.0  \n8   -860.0  -860.0  -860.0  \n9    122.0   122.0   122.0  \n10   641.0   641.0   641.0  \n11  -127.0  -127.0  -127.0  \n12  -747.0  -747.0  -747.0  \n13     0.0     0.0     0.0  \n\n[14 rows x 557963 columns]",
      "text/html": "<div>\n<style scoped>\n    .dataframe tbody tr th:only-of-type {\n        vertical-align: middle;\n    }\n\n    .dataframe tbody tr th {\n        vertical-align: top;\n    }\n\n    .dataframe thead th {\n        text-align: right;\n    }\n</style>\n<table border=\"1\" class=\"dataframe\">\n  <thead>\n    <tr style=\"text-align: right;\">\n      <th></th>\n      <th>0</th>\n      <th>1</th>\n      <th>2</th>\n      <th>3</th>\n      <th>4</th>\n      <th>5</th>\n      <th>6</th>\n      <th>7</th>\n      <th>8</th>\n      <th>9</th>\n      <th>...</th>\n      <th>557953</th>\n      <th>557954</th>\n      <th>557955</th>\n      <th>557956</th>\n      <th>557957</th>\n      <th>557958</th>\n      <th>557959</th>\n      <th>557960</th>\n      <th>557961</th>\n      <th>557962</th>\n    </tr>\n  </thead>\n  <tbody>\n    <tr>\n      <th>0</th>\n      <td>-870.0</td>\n      <td>-881.0</td>\n      <td>-871.0</td>\n      <td>-906.0</td>\n      <td>-917.0</td>\n      <td>-925.0</td>\n      <td>-921.0</td>\n      <td>-957.0</td>\n      <td>-914.0</td>\n      <td>-898.0</td>\n      <td>...</td>\n      <td>-938.0</td>\n      <td>-938.0</td>\n      <td>-938.0</td>\n      <td>-938.0</td>\n      <td>-938.0</td>\n      <td>-938.0</td>\n      <td>-938.0</td>\n      <td>-938.0</td>\n      <td>-938.0</td>\n      <td>-938.0</td>\n    </tr>\n    <tr>\n      <th>1</th>\n      <td>532.0</td>\n      <td>619.0</td>\n      <td>373.0</td>\n      <td>313.0</td>\n      <td>302.0</td>\n      <td>228.0</td>\n      <td>271.0</td>\n      <td>356.0</td>\n      <td>401.0</td>\n      <td>419.0</td>\n      <td>...</td>\n      <td>309.0</td>\n      <td>309.0</td>\n      <td>309.0</td>\n      <td>309.0</td>\n      <td>309.0</td>\n      <td>309.0</td>\n      <td>309.0</td>\n      <td>309.0</td>\n      <td>309.0</td>\n      <td>309.0</td>\n    </tr>\n    <tr>\n      <th>2</th>\n      <td>137.0</td>\n      <td>268.0</td>\n      <td>230.0</td>\n      <td>233.0</td>\n      <td>240.0</td>\n      <td>304.0</td>\n      <td>285.0</td>\n      <td>264.0</td>\n      <td>259.0</td>\n      <td>266.0</td>\n      <td>...</td>\n      <td>125.0</td>\n      <td>125.0</td>\n      <td>125.0</td>\n      <td>125.0</td>\n      <td>125.0</td>\n      <td>125.0</td>\n      <td>125.0</td>\n      <td>125.0</td>\n      <td>125.0</td>\n      <td>125.0</td>\n    </tr>\n    <tr>\n      <th>3</th>\n      <td>305.0</td>\n      <td>-841.0</td>\n      <td>-1483.0</td>\n      <td>-1210.0</td>\n      <td>-1020.0</td>\n      <td>-588.0</td>\n      <td>-51.0</td>\n      <td>139.0</td>\n      <td>166.0</td>\n      <td>63.0</td>\n      <td>...</td>\n      <td>-41.0</td>\n      <td>-41.0</td>\n      <td>-41.0</td>\n      <td>-41.0</td>\n      <td>-41.0</td>\n      <td>-41.0</td>\n      <td>-41.0</td>\n      <td>-41.0</td>\n      <td>-41.0</td>\n      <td>-41.0</td>\n    </tr>\n    <tr>\n      <th>4</th>\n      <td>90.0</td>\n      <td>180.0</td>\n      <td>247.0</td>\n      <td>291.0</td>\n      <td>287.0</td>\n      <td>168.0</td>\n      <td>-28.0</td>\n      <td>-57.0</td>\n      <td>-83.0</td>\n      <td>8.0</td>\n      <td>...</td>\n      <td>-70.0</td>\n      <td>-70.0</td>\n      <td>-70.0</td>\n      <td>-70.0</td>\n      <td>-70.0</td>\n      <td>-70.0</td>\n      <td>-70.0</td>\n      <td>-70.0</td>\n      <td>-70.0</td>\n      <td>-70.0</td>\n    </tr>\n    <tr>\n      <th>5</th>\n      <td>471.0</td>\n      <td>539.0</td>\n      <td>394.0</td>\n      <td>251.0</td>\n      <td>202.0</td>\n      <td>114.0</td>\n      <td>-24.0</td>\n      <td>-135.0</td>\n      <td>-155.0</td>\n      <td>-127.0</td>\n      <td>...</td>\n      <td>158.0</td>\n      <td>158.0</td>\n      <td>158.0</td>\n      <td>158.0</td>\n      <td>158.0</td>\n      <td>158.0</td>\n      <td>158.0</td>\n      <td>158.0</td>\n      <td>158.0</td>\n      <td>158.0</td>\n    </tr>\n    <tr>\n      <th>6</th>\n      <td>262.0</td>\n      <td>264.0</td>\n      <td>267.0</td>\n      <td>274.0</td>\n      <td>279.0</td>\n      <td>285.0</td>\n      <td>285.0</td>\n      <td>281.0</td>\n      <td>282.0</td>\n      <td>280.0</td>\n      <td>...</td>\n      <td>344.0</td>\n      <td>344.0</td>\n      <td>344.0</td>\n      <td>344.0</td>\n      <td>344.0</td>\n      <td>344.0</td>\n      <td>344.0</td>\n      <td>344.0</td>\n      <td>344.0</td>\n      <td>344.0</td>\n    </tr>\n    <tr>\n      <th>7</th>\n      <td>-26.0</td>\n      <td>-25.0</td>\n      <td>-2.0</td>\n      <td>23.0</td>\n      <td>42.0</td>\n      <td>58.0</td>\n      <td>61.0</td>\n      <td>59.0</td>\n      <td>51.0</td>\n      <td>48.0</td>\n      <td>...</td>\n      <td>-182.0</td>\n      <td>-182.0</td>\n      <td>-182.0</td>\n      <td>-182.0</td>\n      <td>-182.0</td>\n      <td>-182.0</td>\n      <td>-182.0</td>\n      <td>-182.0</td>\n      <td>-182.0</td>\n      <td>-182.0</td>\n    </tr>\n    <tr>\n      <th>8</th>\n      <td>-682.0</td>\n      <td>-678.0</td>\n      <td>-674.0</td>\n      <td>-667.0</td>\n      <td>-659.0</td>\n      <td>-653.0</td>\n      <td>-654.0</td>\n      <td>-658.0</td>\n      <td>-664.0</td>\n      <td>-670.0</td>\n      <td>...</td>\n      <td>-860.0</td>\n      <td>-860.0</td>\n      <td>-860.0</td>\n      <td>-860.0</td>\n      <td>-860.0</td>\n      <td>-860.0</td>\n      <td>-860.0</td>\n      <td>-860.0</td>\n      <td>-860.0</td>\n      <td>-860.0</td>\n    </tr>\n    <tr>\n      <th>9</th>\n      <td>219.0</td>\n      <td>238.0</td>\n      <td>257.0</td>\n      <td>271.0</td>\n      <td>281.0</td>\n      <td>285.0</td>\n      <td>283.0</td>\n      <td>278.0</td>\n      <td>273.0</td>\n      <td>271.0</td>\n      <td>...</td>\n      <td>122.0</td>\n      <td>122.0</td>\n      <td>122.0</td>\n      <td>122.0</td>\n      <td>122.0</td>\n      <td>122.0</td>\n      <td>122.0</td>\n      <td>122.0</td>\n      <td>122.0</td>\n      <td>122.0</td>\n    </tr>\n    <tr>\n      <th>10</th>\n      <td>607.0</td>\n      <td>605.0</td>\n      <td>601.0</td>\n      <td>600.0</td>\n      <td>599.0</td>\n      <td>598.0</td>\n      <td>597.0</td>\n      <td>597.0</td>\n      <td>598.0</td>\n      <td>598.0</td>\n      <td>...</td>\n      <td>641.0</td>\n      <td>641.0</td>\n      <td>641.0</td>\n      <td>641.0</td>\n      <td>641.0</td>\n      <td>641.0</td>\n      <td>641.0</td>\n      <td>641.0</td>\n      <td>641.0</td>\n      <td>641.0</td>\n    </tr>\n    <tr>\n      <th>11</th>\n      <td>-84.0</td>\n      <td>-79.0</td>\n      <td>-63.0</td>\n      <td>-49.0</td>\n      <td>-36.0</td>\n      <td>-28.0</td>\n      <td>-27.0</td>\n      <td>-27.0</td>\n      <td>-29.0</td>\n      <td>-29.0</td>\n      <td>...</td>\n      <td>-127.0</td>\n      <td>-127.0</td>\n      <td>-127.0</td>\n      <td>-127.0</td>\n      <td>-127.0</td>\n      <td>-127.0</td>\n      <td>-127.0</td>\n      <td>-127.0</td>\n      <td>-127.0</td>\n      <td>-127.0</td>\n    </tr>\n    <tr>\n      <th>12</th>\n      <td>-760.0</td>\n      <td>-756.0</td>\n      <td>-754.0</td>\n      <td>-751.0</td>\n      <td>-749.0</td>\n      <td>-749.0</td>\n      <td>-750.0</td>\n      <td>-752.0</td>\n      <td>-753.0</td>\n      <td>-754.0</td>\n      <td>...</td>\n      <td>-747.0</td>\n      <td>-747.0</td>\n      <td>-747.0</td>\n      <td>-747.0</td>\n      <td>-747.0</td>\n      <td>-747.0</td>\n      <td>-747.0</td>\n      <td>-747.0</td>\n      <td>-747.0</td>\n      <td>-747.0</td>\n    </tr>\n    <tr>\n      <th>13</th>\n      <td>0.0</td>\n      <td>0.0</td>\n      <td>0.0</td>\n      <td>0.0</td>\n      <td>0.0</td>\n      <td>0.0</td>\n      <td>0.0</td>\n      <td>0.0</td>\n      <td>0.0</td>\n      <td>0.0</td>\n      <td>...</td>\n      <td>0.0</td>\n      <td>0.0</td>\n      <td>0.0</td>\n      <td>0.0</td>\n      <td>0.0</td>\n      <td>0.0</td>\n      <td>0.0</td>\n      <td>0.0</td>\n      <td>0.0</td>\n      <td>0.0</td>\n    </tr>\n  </tbody>\n</table>\n<p>14 rows × 557963 columns</p>\n</div>"
     },
     "metadata": {},
     "execution_count": 6
    }
   ],
   "source": [
    "df_train.T"
   ]
  },
  {
   "cell_type": "code",
   "execution_count": 7,
   "metadata": {},
   "outputs": [
    {
     "output_type": "stream",
     "name": "stdout",
     "text": "<class 'pandas.core.frame.DataFrame'>\nRangeIndex: 557963 entries, 0 to 557962\nData columns (total 14 columns):\n #   Column  Non-Null Count   Dtype  \n---  ------  --------------   -----  \n 0   0       557963 non-null  float64\n 1   1       557963 non-null  float64\n 2   2       557963 non-null  float64\n 3   3       557963 non-null  float64\n 4   4       557963 non-null  float64\n 5   5       557963 non-null  float64\n 6   6       557963 non-null  float64\n 7   7       557963 non-null  float64\n 8   8       557963 non-null  float64\n 9   9       557963 non-null  float64\n 10  10      557963 non-null  float64\n 11  11      557963 non-null  float64\n 12  12      557963 non-null  float64\n 13  13      557963 non-null  float64\ndtypes: float64(14)\nmemory usage: 59.6 MB\n"
    }
   ],
   "source": [
    "df_train.info()"
   ]
  },
  {
   "cell_type": "code",
   "execution_count": null,
   "metadata": {},
   "outputs": [],
   "source": [
    "|"
   ]
  }
 ],
 "metadata": {
  "language_info": {
   "codemirror_mode": {
    "name": "ipython",
    "version": 3
   },
   "file_extension": ".py",
   "mimetype": "text/x-python",
   "name": "python",
   "nbconvert_exporter": "python",
   "pygments_lexer": "ipython3",
   "version": "3.7.7-final"
  },
  "orig_nbformat": 2,
  "kernelspec": {
   "name": "python37764bittf21condacb170c5154354f89a0768a21d002b8fb",
   "display_name": "Python 3.7.7 64-bit ('tf2.1': conda)"
  }
 },
 "nbformat": 4,
 "nbformat_minor": 2
}